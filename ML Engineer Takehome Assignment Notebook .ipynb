{
 "cells": [
  {
   "cell_type": "markdown",
   "metadata": {},
   "source": [
    "# Zootopia: Take-Home Coding Assignment"
   ]
  },
  {
   "cell_type": "markdown",
   "metadata": {},
   "source": [
    "## Introduction\n",
    "\n",
    "This little exercise will help us learn about your thought processes and also provide some exposure on some of the challenges you might face.\n",
    "\n",
    "You should expect to spend no more than **3** hours working on this assignment. Your solutions should demonstrate your ability to write clean, well-documented, but performant code and be knowledgable in the following concepts or technologies: \n",
    "\n",
    "```\n",
    "- Model Building with Tensorflow, Keras \n",
    "- Data Preprocessing Methods\n",
    "- Transfer Learning Concepts\n",
    "- Hyperparameter Tuning\n",
    "- Adversarial Attacks\n",
    "```"
   ]
  },
  {
   "cell_type": "markdown",
   "metadata": {},
   "source": [
    "### Lore\n",
    "A zoo in Zootropolis has engaged you to help them set up a custom classification pipeline to monitor their animals through feeds from CCTV installed throughout the zoo.\n",
    "\n",
    "Furthermore, there are also some concerns sounded off by the zookeepers. Firstly, the animals do not like it when the model is biased against them. Secondly, some animals might plan an escape and launch adversarial attacks on the model to avoid detection. Therefore, some of the tasks are there to address these issues.\n",
    "\n",
    "Lastly, what is the use of a trained model if we cannot deploy it? Help the zookeepers set up a prediction pipeline to use the model to track the animals in their enclosure 24 7!"
   ]
  },
  {
   "cell_type": "markdown",
   "metadata": {},
   "source": [
    "### Rules\n",
    "When attempting this assignment, please adhere to the following rules:\n",
    "\n",
    "1. You may refer to online sources, but you may not copy code verbatim. Acknowledge these sources where appropriate in code comments.\n",
    "2. You may not install any additional pip packages.\n",
    "3. You may not download or rely on datasets other than the one provided.\n",
    "4. You may create additional cells, but please keep it neat and well-documented."
   ]
  },
  {
   "cell_type": "markdown",
   "metadata": {},
   "source": [
    "### Tasks Summary\n",
    "Here is the summary of the tasks for completion:\n",
    "1. **Task 1** - Create Custom Data Generator With Augmentation\n",
    "2. **Task 2** - Pipeline To Dynamically Build Model Based On Blueprint Configuration\n",
    "3. **Task 3** - Introduce New Class Without Old Data\n",
    "4. **Task 4** - Develop Hyper Parameter Tuning Strategy\n",
    "5. **Task 5** - Demonstrate Adversarial Attack On Model"
   ]
  },
  {
   "cell_type": "markdown",
   "metadata": {},
   "source": [
    "### Dataset\n",
    "Download the training dataset from https://bit.ly/3LUkAOH.\n",
    "\n",
    "It should contain two folders - `main/` and `follow-on/`. The purpose of these folders and their subfolders are for:\n",
    "\n",
    "- **main/** - Contains images of two animals, Squirrel & Butterfly (300 each), for Task 1 - 4\n",
    "- **follow-on/** - Contains images of one animal, Panda (300 images), for Task 5 \n",
    "\n",
    "*Do not download or use additional dataset other than the one provided.*"
   ]
  },
  {
   "cell_type": "markdown",
   "metadata": {},
   "source": [
    "### Getting Started\n",
    "The partially filled cells available in the notebook serve as a guideline for the assignment. You will need to fill in the missing codes. Feel free to create other cells to segregate any code if you want.\n",
    "\n",
    "Before you start coding, ensure that you have the following dependencies:\n",
    "\n",
    "- Python3.7+\n",
    "\n",
    "Then install the additional pip dependencies in the next cell."
   ]
  },
  {
   "cell_type": "code",
   "execution_count": null,
   "metadata": {},
   "outputs": [],
   "source": [
    "!pip install albumentations==0.5.2 opencv-python==4.5.5.62 Pillow==9.0.1 scikit-learn==1.0.2 tensorflow==2.3.0"
   ]
  },
  {
   "cell_type": "markdown",
   "metadata": {},
   "source": [
    "### Import Packages"
   ]
  },
  {
   "cell_type": "code",
   "execution_count": null,
   "metadata": {},
   "outputs": [],
   "source": [
    "import glob\n",
    "import numpy as np\n",
    "import tensorflow as tf\n",
    "\n",
    "from sklearn.model_selection import train_test_split"
   ]
  },
  {
   "cell_type": "markdown",
   "metadata": {},
   "source": [
    "# Tasks"
   ]
  },
  {
   "cell_type": "markdown",
   "metadata": {},
   "source": [
    "## Task 1: Create Custom Data Generator With Augmentation (20 Minutes)\n",
    "\n",
    "### Objective\n",
    "The first task is to create a custom data generator for the model training and validation process. Fill in the missing codes in the generator class `CustomDataGenerator`. The data generator should accomplish a couple of things:\n",
    "\n",
    "- The data set is missing its label, so generate the label on the fly.\n",
    "- Execution of the data set augmentation should be on the fly.\n",
    "\n",
    "### Expected Outcome\n",
    "The data generator class `CustomDataGenerator` must be successfully initialized without errors. Store the initialized class in variables `train_data_generator` and `val_data_generator` for further use.\n",
    "\n",
    "### Hint\n",
    "Create a working data generator is easy. You need to pay attention to how the generator deals with the data during training and validation\n",
    "\n",
    "Use the `Albumentations` library - the type of augmentations you select does not matter in this case"
   ]
  },
  {
   "cell_type": "code",
   "execution_count": null,
   "metadata": {},
   "outputs": [],
   "source": [
    "class CustomDataGenerator(Sequence):\n",
    "    def __init__(self, # YOUR CODE HERE #):\n",
    "        \"\"\"Initialize generator class\"\"\"\n",
    "        \n",
    "        # fill in any missing code\n",
    "        \n",
    "    def __len__(self):\n",
    "        \"\"\"Calculate number of batch per epoch\"\"\"\n",
    "    \n",
    "        # fill in any missing code\n",
    "    \n",
    "    def __getitem__(self, index):\n",
    "        \"\"\"Generate a single batch of data\"\"\"\n",
    "        \n",
    "        # fill in any missing code \n",
    "        "
   ]
  },
  {
   "cell_type": "code",
   "execution_count": null,
   "metadata": {},
   "outputs": [],
   "source": [
    "def retrieve_dataset(path, shuffle=True, split_ratio=0.7):\n",
    "    all_files = glob.glob(os.path.join(path, \"**/*\"))\n",
    "\n",
    "    if shuffle:\n",
    "        np.random.shuffle(all_files)\n",
    "\n",
    "    return train_test_split(all_files, train_size=split_ratio)"
   ]
  },
  {
   "cell_type": "code",
   "execution_count": null,
   "metadata": {},
   "outputs": [],
   "source": [
    "## Initialize Data Generators\n",
    "# train_data_generator = CustomDataGenerator(....)\n",
    "# val_data_generator = CustomDataGenerator(....)"
   ]
  },
  {
   "cell_type": "markdown",
   "metadata": {},
   "source": [
    "## Task 2: Build A Simple Model (10 Minutes)\n",
    "\n",
    "### Objective\n",
    "Compile and Fit a model with checkpoint strategies - where the training actually runs\n",
    "\n",
    "### Custom checkpoint strategies\n",
    "Furthermore, we want to have the ability to code our own complex crazy model checkpoint strategies by monitoring the training validation loss instead of using those found in `Keras` and `TensorFlow` libraries. The checkpoint strategy to implement for this assignment is to save the model whenever the metric `accuracy` is at its highest or `total loss` is at its lowest. Please propose and code out an idea on how we can best achieve this. Here are expected behaviours:\n",
    "\n",
    "- Only one model should be saved. Overwrite previously saved model.\n",
    "- Whenever you save a model, log the metrics into a text file. \n",
    "\n",
    "### Expected Outcome\n",
    "Firstly, check if the model is successfully compiled using `model.summary()`. If so, proceed to train the model using `model.fit()`. Secondly, the model or checkpoint file, together with a text file containing metric values, should be saved during the training process.\n",
    "\n",
    "### Hint\n",
    "Keras contains functions that can easily build base models. Keras or TensorFlow already have their own checkpoint strategies."
   ]
  },
  {
   "cell_type": "code",
   "execution_count": null,
   "metadata": {},
   "outputs": [],
   "source": [
    "def build_model(model_name):\n",
    "    ## Fill in any missing code below\n",
    "    \n",
    "    ## Select requested model based on model name\n",
    "    # chosen_model = YOUR CODE HERE\n",
    "    \n",
    "    ## Build Base / Backbone Model\n",
    "    base_model = chosen_model(\n",
    "        weights=\"imagenet\",\n",
    "        include_top=False,\n",
    "        input_shape=(width, height, 3),\n",
    "    )\n",
    "    \n",
    "    ## Build Output / Adapter Layer\n",
    "    # output_layers = YOUR CODE HERE\n",
    "    \n",
    "    ## Compile model\n",
    "    model = models.Model(inputs=base_model.inputs, outputs=output_layers)\n",
    "\n",
    "    model.compile(\n",
    "        # optimizer=optimizer(lr=#.... Your Code Here ...#),\n",
    "        loss=\"categorical_crossentropy\",\n",
    "        metrics=[\"accuracy\"],\n",
    "    )\n",
    "    \n",
    "    return model"
   ]
  },
  {
   "cell_type": "code",
   "execution_count": null,
   "metadata": {},
   "outputs": [],
   "source": [
    "## Build model\n",
    "model = build_model(training_settings[\"model\"])\n",
    "\n",
    "## View compiled model architecture\n",
    "model.summary()\n",
    "\n",
    "## Train model\n",
    "model.fit(...)"
   ]
  },
  {
   "cell_type": "markdown",
   "metadata": {},
   "source": [
    "## Task 3: Continual Learning Discussion (30 Minutes)\n",
    "\n",
    "A zookeeper wanted to update the model to include a new animal - however, he has lost all of the previous training data that he has painfully collected. The zookeeper came up with the following plan:\n",
    "\n",
    "- Initialze the model with the existing weights\n",
    "- Run `.fit` on the current model with the new data to apply transfer learning\n",
    "- ...\n",
    "- Profit\n",
    "\n",
    "Discussion / Presentation :\n",
    "- What are some of the issues with this approach and how would you advise the zookeeper to deal with the current issue?\n",
    "- If you were to implement a continual learning, what are some of the conditions and methods you will put into place?"
   ]
  },
  {
   "cell_type": "markdown",
   "metadata": {},
   "source": [
    "----"
   ]
  },
  {
   "cell_type": "markdown",
   "metadata": {},
   "source": [
    "## Task 4: Implement Bayesian Optimization (30 Minutes)\n",
    "\n",
    "\n",
    "### Objective\n",
    "\n",
    "- Propose and code a hyperparameter tuning technique\n",
    "\n",
    "Feel free to use KerasTuner (https://keras.io/api/keras_tuner/tuners/bayesian/_ or `bayes_opt` (https://github.com/fmfn/BayesianOptimization)\n",
    "\n",
    "\n",
    "### Expected Outcome\n",
    "Training leverages bayesian optimizer that does a hyperparameter search as you train the model - Additional points if you are able explain how your setup can be distributable / scalable in larger trainings\n"
   ]
  },
  {
   "cell_type": "code",
   "execution_count": 1,
   "metadata": {},
   "outputs": [],
   "source": [
    "# Your Implementation Here"
   ]
  },
  {
   "cell_type": "code",
   "execution_count": null,
   "metadata": {},
   "outputs": [],
   "source": []
  },
  {
   "cell_type": "code",
   "execution_count": null,
   "metadata": {},
   "outputs": [],
   "source": []
  },
  {
   "cell_type": "markdown",
   "metadata": {},
   "source": [
    "## Task 5: Implement an Adverserial Patch Attack (30 Minutes)\n",
    "\n",
    "### Objective\n",
    "The animals would love to escape. The realize that only pandas have the ability to move in and out of the zoo as they wish. They have decided to full the classifier this time!\n",
    "\n",
    "However, Fast Gradient Sign Method is overrated - plus, there's no way for the animals in the zoo to really escape with this method. Ideally, you will use `ART` or other libraries to create an adverserial patch tha will allow your model to misclassify the animals.\n",
    "\n",
    "![Penguin](data:image/jpeg;base64,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)\n",
    "\n",
    "How we imagine this might look - *Bye Suckas*"
   ]
  },
  {
   "cell_type": "code",
   "execution_count": null,
   "metadata": {},
   "outputs": [],
   "source": []
  }
 ],
 "metadata": {
  "kernelspec": {
   "display_name": "Python 3",
   "language": "python",
   "name": "python3"
  },
  "language_info": {
   "codemirror_mode": {
    "name": "ipython",
    "version": 3
   },
   "file_extension": ".py",
   "mimetype": "text/x-python",
   "name": "python",
   "nbconvert_exporter": "python",
   "pygments_lexer": "ipython3",
   "version": "3.7.12"
  }
 },
 "nbformat": 4,
 "nbformat_minor": 2
}
